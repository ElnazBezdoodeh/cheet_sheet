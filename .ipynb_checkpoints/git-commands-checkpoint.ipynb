{
 "cells": [
  {
   "cell_type": "markdown",
   "metadata": {},
   "source": [
    "# Git Commands Cheat Sheet"
   ]
  },
  {
   "cell_type": "markdown",
   "metadata": {},
   "source": [
    "### check installed and version\n",
    "```r\n",
    "git --version\n",
    "```"
   ]
  },
  {
   "cell_type": "markdown",
   "metadata": {},
   "source": [
    "### set config values\n",
    "```r\n",
    "# set username\n",
    "git config --global user.name \"siavash-saki\"\n",
    "\n",
    "# set email\n",
    "git config --global user.email \"siavash.saki@engineer.com\"\t\n",
    "\n",
    "# list of configured values\n",
    "git config --list\t\t\t\t\t\t\n",
    "```"
   ]
  },
  {
   "cell_type": "markdown",
   "metadata": {},
   "source": [
    "### help\n",
    "```r\n",
    "git help config\n",
    "git config --help\n",
    "```"
   ]
  },
  {
   "cell_type": "markdown",
   "metadata": {},
   "source": [
    "### Initialize a repository\n",
    "```r\n",
    "# from within a folder with existing code\n",
    "git init\n",
    "# This creats a .git folder\n",
    "```"
   ]
  },
  {
   "cell_type": "markdown",
   "metadata": {},
   "source": [
    "### No longer tracking a directory\n",
    "```r\n",
    "# from within a folder with existing code\n",
    "rm -rf .git\n",
    "# This removes a .git folder\n",
    "```"
   ]
  },
  {
   "cell_type": "markdown",
   "metadata": {},
   "source": [
    "### Before First Commit: status\n",
    "```r\n",
    "git status\n",
    "```"
   ]
  },
  {
   "cell_type": "markdown",
   "metadata": {},
   "source": [
    "### ignore files that are not part of project\n",
    "```r\n",
    "touch .gitignore\n",
    "# open .gitignore as txt and add files (for example: *.py)\n",
    "```"
   ]
  },
  {
   "cell_type": "markdown",
   "metadata": {},
   "source": [
    "### Workflow: 3 States\n",
    "```r\n",
    "(Working Directory) ------- (Staging Area) ------- (.git directory)\n",
    "\t<---------------check out the project------------|\n",
    "\t|--------stage fixes------>|-------commit-------->\n",
    "```"
   ]
  },
  {
   "cell_type": "markdown",
   "metadata": {},
   "source": [
    "### stage fixes\n",
    "```r\n",
    "# Add untracked or modified files to staging areas\n",
    "# add a specific file \n",
    "git add <file_name>\n",
    "# add all files\n",
    "git add -A\t\t\t\t\t\n",
    "\n",
    "# remove files from staging area\n",
    "# removes a specific file \n",
    "git reset <file_name>\t\n",
    "# removes all files\n",
    "git reset\t\t\t\t\t\n",
    "```"
   ]
  },
  {
   "cell_type": "markdown",
   "metadata": {},
   "source": [
    "### Commit\n",
    "```r\n",
    "# commit\n",
    "git commit -m \"comment\"\n",
    "# change commit comment\n",
    "git commit --amend -m \"new comment\"\n",
    "# check hash\n",
    "git log\n",
    "```"
   ]
  },
  {
   "cell_type": "markdown",
   "metadata": {},
   "source": [
    "### Working on an existing repo\n",
    "```r\n",
    "# clones only to an empty folder\n",
    "git clone <url> <where_to_clone>\t\t\t\t\n",
    "git clone https://github.com/siavash-saki/Toronto-Neighborhoods-Clustering .\n",
    "\n",
    "# creats a folder with the same name as repo and clones into it\n",
    "git clone <url>\t\t\t\t\t\t\t\n",
    "git clone https://github.com/siavash-saki/Toronto-Neighborhoods-Clustering\n",
    "```"
   ]
  },
  {
   "cell_type": "markdown",
   "metadata": {},
   "source": [
    "### Viewing information about a remote repository\n",
    "```r\n",
    "# list of remote repositories you are connected to\n",
    "# location of repository\n",
    "git remote -v\n",
    "# list of branches\n",
    "git branch -a\n",
    "```"
   ]
  },
  {
   "cell_type": "markdown",
   "metadata": {},
   "source": [
    "### Commit changes\n",
    "```r\n",
    "# shows differences between new and old code\n",
    "git diff\n",
    "# shows status\n",
    "git status\n",
    "# add modified files to staging area\n",
    "git add -A\n",
    "# commit\n",
    "git commit -m \"comment\"\n",
    "```"
   ]
  },
  {
   "cell_type": "markdown",
   "metadata": {},
   "source": [
    "### Push Changes\n",
    "```r\n",
    "git pull origin master\n",
    "git push origin master\n",
    "```"
   ]
  },
  {
   "cell_type": "markdown",
   "metadata": {},
   "source": [
    "### Creat a branch for a desired feature\n",
    "```r\n",
    "# creats a branch\n",
    "git branch <branch-name>\n",
    "# start working on a branch\n",
    "git checkout <branch-name>\n",
    "# shows current branch\n",
    "git branch\n",
    "```"
   ]
  },
  {
   "cell_type": "markdown",
   "metadata": {},
   "source": [
    "### After commit: Push branch to remote\n",
    "```r\n",
    "git push -u origin <branch-name>\n",
    "```"
   ]
  },
  {
   "cell_type": "markdown",
   "metadata": {},
   "source": [
    "### Merge a branch\n",
    "```r\n",
    "git checkout master\n",
    "git pull origin master\n",
    "git branch --merged # check merged branches\n",
    "git merge <branch-name>\n",
    "git push origin master\n",
    "```"
   ]
  },
  {
   "cell_type": "markdown",
   "metadata": {},
   "source": [
    "### Delete a branch\n",
    "```r\n",
    "git branch --merged\n",
    "git branch -d <branch-name> # deletes branch locally\n",
    "git branch -a\n",
    "git push origin --delete <branch-name> # deletes branch remotely\n",
    "```"
   ]
  },
  {
   "cell_type": "markdown",
   "metadata": {},
   "source": [
    "### Fix Commit Mistakes\n",
    "```r\n",
    "# add another file with the same commit\n",
    "git commit --amend\n",
    "# apply commit to another branch\n",
    "git log # copy hash\n",
    "git checkout <branch-name>\n",
    "git cherry-pick <hash>\n",
    "# delete a commit from a branch\n",
    "git checkout <branch-name>\n",
    "git reset --soft <hash> # keep changes \n",
    "git reset --hard <hash> # removes changes\n",
    "```"
   ]
  },
  {
   "cell_type": "markdown",
   "metadata": {},
   "source": [
    "### Log\n",
    "```r\n",
    "git reflog\n",
    "git checkout <hash>\n",
    "git log\n",
    "```"
   ]
  },
  {
   "cell_type": "markdown",
   "metadata": {},
   "source": [
    "### Adding an existing project to GitHub using the command line\n",
    "Create a new repository on GitHub\n",
    "```r\n",
    "# Initialize the local directory as a Git repository.\n",
    "git init\n",
    "# Adds the files in the local repository and stages them for commit. To unstage a file, use 'git reset HEAD YOUR-FILE'\n",
    "git add -A\n",
    "# Commits the tracked changes and prepares them to be pushed to a remote repository. To remove this commit and modify the file, use 'git reset --soft HEAD~1' and commit and add the file again.\n",
    "git commit -m \"First commit\"\n",
    "# Sets the new remote\n",
    "git remote add origin <remote-repository-URL>\n",
    "# Verifies the new remote URL\n",
    "git remote -v\n",
    "# Pushes the changes in your local repository up to the remote repository you specified as the origin\n",
    "git push origin master\n",
    "```"
   ]
  },
  {
   "cell_type": "code",
   "execution_count": null,
   "metadata": {},
   "outputs": [],
   "source": []
  },
  {
   "cell_type": "code",
   "execution_count": null,
   "metadata": {},
   "outputs": [],
   "source": []
  },
  {
   "cell_type": "code",
   "execution_count": null,
   "metadata": {},
   "outputs": [],
   "source": []
  },
  {
   "cell_type": "code",
   "execution_count": null,
   "metadata": {},
   "outputs": [],
   "source": []
  },
  {
   "cell_type": "markdown",
   "metadata": {},
   "source": [
    "https://www.youtube.com/watch?v=_NrSWLQsDL4"
   ]
  },
  {
   "cell_type": "code",
   "execution_count": null,
   "metadata": {},
   "outputs": [],
   "source": []
  }
 ],
 "metadata": {
  "kernelspec": {
   "display_name": "Python 3",
   "language": "python",
   "name": "python3"
  },
  "language_info": {
   "codemirror_mode": {
    "name": "ipython",
    "version": 3
   },
   "file_extension": ".py",
   "mimetype": "text/x-python",
   "name": "python",
   "nbconvert_exporter": "python",
   "pygments_lexer": "ipython3",
   "version": "3.7.3"
  }
 },
 "nbformat": 4,
 "nbformat_minor": 2
}
